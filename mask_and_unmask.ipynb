{
 "cells": [
  {
   "cell_type": "code",
   "execution_count": 1,
   "metadata": {
    "id": "XwX89q9-UH9U"
   },
   "outputs": [],
   "source": [
    "import numpy as np\n",
    "import pandas as pd\n",
    "import tensorflow as tf\n",
    "import cv2,os"
   ]
  },
  {
   "cell_type": "code",
   "execution_count": 2,
   "metadata": {},
   "outputs": [
    {
     "data": {
      "text/plain": [
       "'2.3.0'"
      ]
     },
     "execution_count": 2,
     "metadata": {},
     "output_type": "execute_result"
    }
   ],
   "source": [
    "tf.__version__"
   ]
  },
  {
   "cell_type": "code",
   "execution_count": null,
   "metadata": {
    "colab": {
     "base_uri": "https://localhost:8080/"
    },
    "id": "aodg-yYNTNzN",
    "outputId": "14373f51-27d4-4c0b-c7cb-ce46edca83eb"
   },
   "outputs": [],
   "source": [
    "# from google.colab import drive\n",
    "# drive.mount('/gdrive')\n",
    "# %cd /gdrive"
   ]
  },
  {
   "cell_type": "code",
   "execution_count": null,
   "metadata": {
    "colab": {
     "base_uri": "https://localhost:8080/"
    },
    "id": "mB6a89fUTO9-",
    "outputId": "72e58f45-0efd-43b0-f742-e5ba66664cd2"
   },
   "outputs": [],
   "source": [
    "# data_path='/content/drive/MyDrive/Colab Notebooks/dataset/dataset'\n",
    "data_path='Downloads/dataset-20201210T142510Z-001/dataset/'\n",
    "categories=os.listdir(data_path)\n",
    "labels=[i for i in range(len(categories))]\n",
    "\n",
    "label_dict=dict(zip(categories,labels))\n",
    "\n",
    "print(label_dict)\n",
    "print(categories)\n",
    "print(labels)"
   ]
  },
  {
   "cell_type": "code",
   "execution_count": null,
   "metadata": {
    "id": "S5zB205oXbL1"
   },
   "outputs": [],
   "source": [
    "img_size=100\n",
    "data=[]\n",
    "target=[]\n",
    "\n",
    "\n",
    "for category in categories:\n",
    "    folder_path=os.path.join(data_path,category)\n",
    "    img_names=os.listdir(folder_path)\n",
    "        \n",
    "    for img_name in img_names:\n",
    "        img_path=os.path.join(folder_path,img_name)\n",
    "        img=cv2.imread(img_path)\n",
    "\n",
    "        try:\n",
    "            gray=cv2.cvtColor(img,cv2.COLOR_BGR2GRAY)           \n",
    "            #Coverting the image into gray scale\n",
    "            resized=cv2.resize(gray,(img_size,img_size))\n",
    "            #resizing the gray scale into 50x50, since we need a fixed common size for all the images in the dataset\n",
    "            data.append(resized)\n",
    "            target.append(label_dict[category])\n",
    "            #appending the image and the label(categorized) into the list (dataset)\n",
    "\n",
    "        except Exception as e:\n",
    "            print('Exception:',e)\n",
    "            #if any exception rasied, the exception will be printed here. And pass to the next image"
   ]
  },
  {
   "cell_type": "code",
   "execution_count": 4,
   "metadata": {},
   "outputs": [],
   "source": [
    "# np.save('data',data)\n",
    "# np.save('target',target)"
   ]
  },
  {
   "cell_type": "code",
   "execution_count": 3,
   "metadata": {},
   "outputs": [],
   "source": [
    "import numpy as np\n",
    "\n",
    "data=np.load('data.npy')\n",
    "target=np.load('target.npy')"
   ]
  },
  {
   "cell_type": "code",
   "execution_count": 51,
   "metadata": {
    "colab": {
     "base_uri": "https://localhost:8080/"
    },
    "id": "WBI6u1HMYVhB",
    "outputId": "c1aaba14-a6d5-4514-cf45-272f67c937f1"
   },
   "outputs": [
    {
     "data": {
      "text/plain": [
       "(1376, 100, 100, 1)"
      ]
     },
     "execution_count": 51,
     "metadata": {},
     "output_type": "execute_result"
    }
   ],
   "source": [
    "data.shape"
   ]
  },
  {
   "cell_type": "code",
   "execution_count": 52,
   "metadata": {},
   "outputs": [
    {
     "data": {
      "text/plain": [
       "(1376,)"
      ]
     },
     "execution_count": 52,
     "metadata": {},
     "output_type": "execute_result"
    }
   ],
   "source": [
    "target.shape"
   ]
  },
  {
   "cell_type": "code",
   "execution_count": 4,
   "metadata": {
    "id": "2lmVhRRLYJgo"
   },
   "outputs": [],
   "source": [
    "img_size=100\n",
    "data=np.array(data)/255.0\n",
    "data=np.reshape(data,(data.shape[0],img_size,img_size,1))\n",
    "target=np.array(target)\n",
    "\n",
    "from keras.utils import np_utils\n",
    "\n",
    "new_target=np_utils.to_categorical(target)"
   ]
  },
  {
   "cell_type": "code",
   "execution_count": 5,
   "metadata": {
    "id": "nY8ofIdeccJz"
   },
   "outputs": [],
   "source": [
    "from sklearn.model_selection import train_test_split\n",
    "x_train,x_test,y_train,y_test=train_test_split(data,new_target,test_size=0.2)"
   ]
  },
  {
   "cell_type": "code",
   "execution_count": 6,
   "metadata": {
    "id": "T70Sd0_Eank4"
   },
   "outputs": [],
   "source": [
    "from keras.layers import Dense,Flatten,Dropout,Activation,Conv2D,MaxPooling2D\n",
    "from keras.models import Sequential\n",
    "from keras.callbacks import ModelCheckpoint"
   ]
  },
  {
   "cell_type": "code",
   "execution_count": 7,
   "metadata": {
    "id": "aOtpDqtgbPEO"
   },
   "outputs": [],
   "source": [
    "model=Sequential()\n",
    "\n",
    "model.add(Conv2D(200,(3,3),input_shape=data.shape[1:]))\n",
    "model.add(Activation('relu'))\n",
    "model.add(MaxPooling2D((2,2)))\n",
    "\n",
    "model.add(Conv2D(100,(3,3)))\n",
    "model.add(Activation('relu'))\n",
    "model.add(MaxPooling2D((2,2)))\n",
    "\n",
    "model.add(Conv2D(32,(3,3),input_shape=data.shape[1:]))\n",
    "model.add(Activation('relu'))\n",
    "model.add(MaxPooling2D((2,2)))\n",
    "\n",
    "model.add(Flatten())\n",
    "model.add(Dense(100,activation='relu'))\n",
    "model.add(Dropout(0.5))\n",
    "model.add(Dense(2,activation='softmax'))\n",
    "\n",
    "model.compile(loss='categorical_crossentropy',optimizer=tf.keras.optimizers.Adam(),metrics=['accuracy'])"
   ]
  },
  {
   "cell_type": "code",
   "execution_count": 44,
   "metadata": {},
   "outputs": [],
   "source": [
    "from keras.preprocessing.image import ImageDataGenerator"
   ]
  },
  {
   "cell_type": "code",
   "execution_count": 47,
   "metadata": {},
   "outputs": [],
   "source": [
    "train_datagen=ImageDataGenerator(rotation_range=45,zoom_range=0.2,horizontal_flip=True,height_shift_range=0.2,width_shift_range=0.2)\n",
    "test_datagen=ImageDataGenerator()"
   ]
  },
  {
   "cell_type": "code",
   "execution_count": 48,
   "metadata": {},
   "outputs": [],
   "source": [
    "train_gen=train_datagen.flow(x_train,y_train,batch_size=64)\n",
    "test_gen=test_datagen.flow(x_test,y_test,batch_size=64)"
   ]
  },
  {
   "cell_type": "code",
   "execution_count": 53,
   "metadata": {},
   "outputs": [
    {
     "data": {
      "text/plain": [
       "(1100, 100, 100, 1)"
      ]
     },
     "execution_count": 53,
     "metadata": {},
     "output_type": "execute_result"
    }
   ],
   "source": [
    "x_train.shape"
   ]
  },
  {
   "cell_type": "code",
   "execution_count": 54,
   "metadata": {},
   "outputs": [
    {
     "data": {
      "text/plain": [
       "(276, 100, 100, 1)"
      ]
     },
     "execution_count": 54,
     "metadata": {},
     "output_type": "execute_result"
    }
   ],
   "source": [
    "x_test.shape"
   ]
  },
  {
   "cell_type": "code",
   "execution_count": 55,
   "metadata": {
    "colab": {
     "base_uri": "https://localhost:8080/"
    },
    "id": "YPMTaHcpdDUB",
    "outputId": "7ca67e9e-124a-43e0-a241-1e9129149411"
   },
   "outputs": [
    {
     "name": "stdout",
     "output_type": "stream",
     "text": [
      "WARNING:tensorflow:From <ipython-input-55-3242fa1d3102>:3: Model.fit_generator (from tensorflow.python.keras.engine.training) is deprecated and will be removed in a future version.\n",
      "Instructions for updating:\n",
      "Please use Model.fit, which supports generators.\n",
      "Epoch 1/20\n",
      "18/17 [===============================] - ETA: -6s - loss: 0.5394 - accuracy: 0.8127 ETA: 6:26 - loss\n",
      "Epoch 00001: val_accuracy improved from -inf to 0.93478, saving model to model-1.h5\n",
      "18/17 [===============================] - 178s 10s/step - loss: 0.5394 - accuracy: 0.8127 - val_loss: 0.1982 - val_accuracy: 0.9348\n",
      "Epoch 2/20\n",
      "18/17 [===============================] - ETA: -3s - loss: 0.3606 - accuracy: 0.8700\n",
      "Epoch 00002: val_accuracy improved from 0.93478 to 0.94565, saving model to model-2.h5\n",
      "18/17 [===============================] - 76s 4s/step - loss: 0.3606 - accuracy: 0.8700 - val_loss: 0.1822 - val_accuracy: 0.9457\n",
      "Epoch 3/20\n",
      "18/17 [===============================] - ETA: -3s - loss: 0.3028 - accuracy: 0.8818\n",
      "Epoch 00003: val_accuracy improved from 0.94565 to 0.96014, saving model to model-3.h5\n",
      "18/17 [===============================] - 75s 4s/step - loss: 0.3028 - accuracy: 0.8818 - val_loss: 0.1159 - val_accuracy: 0.9601\n",
      "Epoch 4/20\n",
      "18/17 [===============================] - ETA: -3s - loss: 0.4219 - accuracy: 0.8427\n",
      "Epoch 00004: val_accuracy did not improve from 0.96014\n",
      "18/17 [===============================] - 76s 4s/step - loss: 0.4219 - accuracy: 0.8427 - val_loss: 0.1336 - val_accuracy: 0.9529\n",
      "Epoch 5/20\n",
      "18/17 [===============================] - ETA: -3s - loss: 0.3391 - accuracy: 0.8673\n",
      "Epoch 00005: val_accuracy improved from 0.96014 to 0.96377, saving model to model-5.h5\n",
      "18/17 [===============================] - 79s 4s/step - loss: 0.3391 - accuracy: 0.8673 - val_loss: 0.1290 - val_accuracy: 0.9638\n",
      "Epoch 6/20\n",
      "18/17 [===============================] - ETA: -3s - loss: 0.2755 - accuracy: 0.8909\n",
      "Epoch 00006: val_accuracy did not improve from 0.96377\n",
      "18/17 [===============================] - 93s 5s/step - loss: 0.2755 - accuracy: 0.8909 - val_loss: 0.1194 - val_accuracy: 0.9493\n",
      "Epoch 7/20\n",
      "18/17 [===============================] - ETA: -3s - loss: 0.3261 - accuracy: 0.8673\n",
      "Epoch 00007: val_accuracy did not improve from 0.96377\n",
      "18/17 [===============================] - 89s 5s/step - loss: 0.3261 - accuracy: 0.8673 - val_loss: 0.2981 - val_accuracy: 0.8225\n",
      "Epoch 8/20\n",
      "18/17 [===============================] - ETA: -3s - loss: 0.3559 - accuracy: 0.8482\n",
      "Epoch 00008: val_accuracy did not improve from 0.96377\n",
      "18/17 [===============================] - 86s 5s/step - loss: 0.3559 - accuracy: 0.8482 - val_loss: 0.1092 - val_accuracy: 0.9638\n",
      "Epoch 9/20\n",
      "18/17 [===============================] - ETA: -4s - loss: 0.2594 - accuracy: 0.8982\n",
      "Epoch 00009: val_accuracy improved from 0.96377 to 0.96739, saving model to model-9.h5\n",
      "18/17 [===============================] - 102s 6s/step - loss: 0.2594 - accuracy: 0.8982 - val_loss: 0.0990 - val_accuracy: 0.9674\n",
      "Epoch 10/20\n",
      "18/17 [===============================] - ETA: -3s - loss: 0.2381 - accuracy: 0.9082\n",
      "Epoch 00010: val_accuracy did not improve from 0.96739\n",
      "18/17 [===============================] - 89s 5s/step - loss: 0.2381 - accuracy: 0.9082 - val_loss: 0.1324 - val_accuracy: 0.9565\n",
      "Epoch 11/20\n",
      "18/17 [===============================] - ETA: -4s - loss: 0.2865 - accuracy: 0.8927\n",
      "Epoch 00011: val_accuracy did not improve from 0.96739\n",
      "18/17 [===============================] - 99s 5s/step - loss: 0.2865 - accuracy: 0.8927 - val_loss: 0.1005 - val_accuracy: 0.9638\n",
      "Epoch 12/20\n",
      "18/17 [===============================] - ETA: -3s - loss: 0.2681 - accuracy: 0.8955\n",
      "Epoch 00012: val_accuracy did not improve from 0.96739\n",
      "18/17 [===============================] - 82s 5s/step - loss: 0.2681 - accuracy: 0.8955 - val_loss: 0.1380 - val_accuracy: 0.9601\n",
      "Epoch 13/20\n",
      "18/17 [===============================] - ETA: -3s - loss: 0.2423 - accuracy: 0.9073\n",
      "Epoch 00013: val_accuracy did not improve from 0.96739\n",
      "18/17 [===============================] - 91s 5s/step - loss: 0.2423 - accuracy: 0.9073 - val_loss: 0.1035 - val_accuracy: 0.9638\n",
      "Epoch 14/20\n",
      "18/17 [===============================] - ETA: -3s - loss: 0.2557 - accuracy: 0.8991\n",
      "Epoch 00014: val_accuracy did not improve from 0.96739\n",
      "18/17 [===============================] - 94s 5s/step - loss: 0.2557 - accuracy: 0.8991 - val_loss: 0.1167 - val_accuracy: 0.9638\n",
      "Epoch 15/20\n",
      "18/17 [===============================] - ETA: -3s - loss: 0.2346 - accuracy: 0.8973\n",
      "Epoch 00015: val_accuracy improved from 0.96739 to 0.97101, saving model to model-15.h5\n",
      "18/17 [===============================] - 88s 5s/step - loss: 0.2346 - accuracy: 0.8973 - val_loss: 0.1020 - val_accuracy: 0.9710\n",
      "Epoch 16/20\n",
      "18/17 [===============================] - ETA: -3s - loss: 0.2175 - accuracy: 0.9200\n",
      "Epoch 00016: val_accuracy did not improve from 0.97101\n",
      "18/17 [===============================] - 87s 5s/step - loss: 0.2175 - accuracy: 0.9200 - val_loss: 0.0955 - val_accuracy: 0.9638\n",
      "Epoch 17/20\n",
      "18/17 [===============================] - ETA: -3s - loss: 0.2151 - accuracy: 0.9082\n",
      "Epoch 00017: val_accuracy did not improve from 0.97101\n",
      "18/17 [===============================] - 85s 5s/step - loss: 0.2151 - accuracy: 0.9082 - val_loss: 0.1123 - val_accuracy: 0.9674\n",
      "Epoch 18/20\n",
      "18/17 [===============================] - ETA: -3s - loss: 0.2439 - accuracy: 0.9055\n",
      "Epoch 00018: val_accuracy did not improve from 0.97101\n",
      "18/17 [===============================] - 86s 5s/step - loss: 0.2439 - accuracy: 0.9055 - val_loss: 0.1204 - val_accuracy: 0.9601\n",
      "Epoch 19/20\n",
      "18/17 [===============================] - ETA: -3s - loss: 0.2427 - accuracy: 0.9036\n",
      "Epoch 00019: val_accuracy did not improve from 0.97101\n",
      "18/17 [===============================] - 84s 5s/step - loss: 0.2427 - accuracy: 0.9036 - val_loss: 0.1105 - val_accuracy: 0.9710\n",
      "Epoch 20/20\n",
      "18/17 [===============================] - ETA: -3s - loss: 0.2316 - accuracy: 0.9091\n",
      "Epoch 00020: val_accuracy improved from 0.97101 to 0.97826, saving model to model-20.h5\n",
      "18/17 [===============================] - 85s 5s/step - loss: 0.2316 - accuracy: 0.9091 - val_loss: 0.0810 - val_accuracy: 0.9783\n"
     ]
    }
   ],
   "source": [
    "batch=64\n",
    "checkpoint = ModelCheckpoint('model-{epoch:01d}.h5',monitor='val_accuracy',verbose=1,save_best_only=True,mode='auto')\n",
    "history=model.fit_generator(train_gen,steps_per_epoch=1100/batch,epochs=20,validation_data=test_gen,validation_steps=276/batch,callbacks=[checkpoint])"
   ]
  },
  {
   "cell_type": "code",
   "execution_count": 56,
   "metadata": {
    "id": "uerTld4fnfST"
   },
   "outputs": [],
   "source": [
    "model.save('mask_and_unmask_2.h5')"
   ]
  },
  {
   "cell_type": "code",
   "execution_count": 57,
   "metadata": {
    "colab": {
     "base_uri": "https://localhost:8080/"
    },
    "id": "VOaQCh5gdJn_",
    "outputId": "44e36f91-3bda-4bb5-8fdb-7b59026ee013"
   },
   "outputs": [
    {
     "name": "stdout",
     "output_type": "stream",
     "text": [
      "9/9 [==============================] - 5s 509ms/step - loss: 0.0810 - accuracy: 0.9783\n"
     ]
    },
    {
     "data": {
      "text/plain": [
       "[0.08098100870847702, 0.97826087474823]"
      ]
     },
     "execution_count": 57,
     "metadata": {},
     "output_type": "execute_result"
    }
   ],
   "source": [
    "model.evaluate(x_test,y_test)"
   ]
  },
  {
   "cell_type": "code",
   "execution_count": 58,
   "metadata": {
    "colab": {
     "base_uri": "https://localhost:8080/",
     "height": 279
    },
    "id": "k-exX6CXeDXw",
    "outputId": "d938862e-5d7b-4d37-b430-f5f773a14aae"
   },
   "outputs": [
    {
     "data": {
      "image/png": "[encoded data removed]",
      "text/plain": [
       "<Figure size 432x288 with 1 Axes>"
      ]
     },
     "metadata": {
      "needs_background": "light"
     },
     "output_type": "display_data"
    }
   ],
   "source": [
    "from matplotlib import pyplot as plt\n",
    "\n",
    "plt.plot(history.history['loss'],'r',label='training loss')\n",
    "plt.plot(history.history['val_loss'],label='validation loss')\n",
    "plt.xlabel('# epochs')\n",
    "plt.ylabel('loss')\n",
    "plt.legend()\n",
    "plt.show()"
   ]
  },
  {
   "cell_type": "code",
   "execution_count": 59,
   "metadata": {
    "colab": {
     "base_uri": "https://localhost:8080/",
     "height": 279
    },
    "id": "3K9NaPbGey-0",
    "outputId": "f874ba9a-6dca-452c-c8bb-37e6731a85f9"
   },
   "outputs": [
    {
     "data": {
      "image/png": "[encoded data removed]",
      "text/plain": [
       "<Figure size 432x288 with 1 Axes>"
      ]
     },
     "metadata": {
      "needs_background": "light"
     },
     "output_type": "display_data"
    }
   ],
   "source": [
    "plt.plot(history.history['accuracy'],'r',label='training accuracy')\n",
    "plt.plot(history.history['val_accuracy'],label='validation accuracy')\n",
    "plt.xlabel('# epochs')\n",
    "plt.ylabel('loss')\n",
    "plt.legend()\n",
    "plt.show()"
   ]
  },
  {
   "cell_type": "code",
   "execution_count": 60,
   "metadata": {},
   "outputs": [
    {
     "name": "stdout",
     "output_type": "stream",
     "text": [
      "True\n"
     ]
    }
   ],
   "source": [
    "face_clsfr=cv2.CascadeClassifier('haarcascade_frontalface_default.xml')\n",
    "source=cv2.VideoCapture(0)\n",
    "print(source.isOpened())\n",
    "labels_dict={0:'MASK',1:'NO MASK'}\n",
    "color_dict={0:(0,255,0),1:(0,0,255)}"
   ]
  },
  {
   "cell_type": "code",
   "execution_count": 61,
   "metadata": {
    "id": "BCZodbSLgNQP"
   },
   "outputs": [],
   "source": [
    "while(source.isOpened()):\n",
    "    ret,img=source.read()\n",
    "#     gray=cv2.cvtColor(img,cv2.COLOR_BRG2GRAY)\n",
    "    gray=cv2.cvtColor(img,cv2.COLOR_RGB2GRAY)\n",
    "#     faces=face_clsfr.detectMultiScale(gray,1.3,5)\n",
    "    faces=face_clsfr.detectMultiScale(gray,1.3,5)\n",
    "\n",
    "    for (x,y,w,h) in faces:\n",
    "    \n",
    "        face_img=gray[y:y+w,x:x+w]\n",
    "        resized=cv2.resize(face_img,(100,100))\n",
    "        normalized=resized/255.0\n",
    "        reshaped=np.reshape(normalized,(1,100,100,1))\n",
    "        result=model.predict(reshaped)\n",
    "\n",
    "        label=np.argmax(result,axis=1)[0]\n",
    "      \n",
    "        cv2.rectangle(img,(x,y),(x+w,y+h),color_dict[label],2)\n",
    "        cv2.rectangle(img,(x,y-40),(x+w,y),color_dict[label],-1)\n",
    "        cv2.putText(img, labels_dict[label], (x, y-10),cv2.FONT_HERSHEY_SIMPLEX,0.8,(255,255,255),2)\n",
    "        \n",
    "        \n",
    "    cv2.imshow('LIVE',img)\n",
    "    key=cv2.waitKey(1)\n",
    "    \n",
    "    if(key==0):\n",
    "        break\n",
    "        \n",
    "cv2.destroyAllWindows()\n",
    "source.release()"
   ]
  }
 ],
 "metadata": {
  "accelerator": "GPU",
  "colab": {
   "name": "mask and unmask.ipynb",
   "provenance": []
  },
  "kernelspec": {
   "display_name": "Python 3",
   "language": "python",
   "name": "python3"
  },
  "language_info": {
   "codemirror_mode": {
    "name": "ipython",
    "version": 3
   },
   "file_extension": ".py",
   "mimetype": "text/x-python",
   "name": "python",
   "nbconvert_exporter": "python",
   "pygments_lexer": "ipython3",
   "version": "3.7.7"
  }
 },
 "nbformat": 4,
 "nbformat_minor": 1
}
